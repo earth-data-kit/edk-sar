{
 "cells": [
  {
   "cell_type": "markdown",
   "id": "034e2de6",
   "metadata": {},
   "source": [
    "# 🏔️ Mount Etna Sentinel-1 Displacement Mapping with EDK-SAR\n",
    "\n",
    "This example demonstrates how to use **EDK-SAR** to generate a line-of-sight (LOS) displacement map and coherence map from Sentinel-1 SLC data over Mount Etna.\n",
    "\n",
    "### Workflow Overview\n",
    "1. Initialize the EDK-SAR environment  \n",
    "2. Co-register Sentinel-1 SLCs  \n",
    "3. Generate interferograms  \n",
    "4. Load and geocode interferogram and coherence files  \n",
    "5. Compute phase and LOS displacement  \n",
    "6. Export results as GeoTIFFs  \n",
    "7. Visualize outputs on an interactive folium map  \n",
    "\n",
    "This notebook demonstrates an **end-to-end InSAR analysis** with minimal code.\n"
   ]
  },
  {
   "cell_type": "code",
   "execution_count": null,
   "id": "fb1e418d",
   "metadata": {},
   "outputs": [],
   "source": [
    "import edk_sar as es\n",
    "import xarray as xr\n",
    "import numpy as np\n",
    "import webbrowser\n",
    "import importlib\n",
    "from edk_sar.workflows.base import xarray_accessor  \n",
    "from edk_sar.workflows.base.constants import SENTINEL_WAVELENGTH as WAVELENGTH\n",
    "import folium\n",
    "\n",
    "# Reload the module to get the latest changes\n",
    "importlib.reload(xarray_accessor)"
   ]
  },
  {
   "cell_type": "code",
   "execution_count": null,
   "id": "971066ef",
   "metadata": {},
   "outputs": [],
   "source": [
    "# Initialize EDK-SAR environment\n",
    "env_path = \".env\"\n",
    "es.init(env_path)\n",
    "print(\"[OK] Environment initialized\")\n"
   ]
  },
  {
   "cell_type": "code",
   "execution_count": null,
   "id": "d78d97a1",
   "metadata": {},
   "outputs": [],
   "source": [
    "# Define path to Mount Etna Sentinel-1 SLCs\n",
    "slc_path = \"edk_sar/data/slc\"\n",
    "\n",
    "# Run preprocessing workflows\n",
    "es.workflows.coregister.run(slc_path)\n",
    "es.workflows.interferograms.run(slc_path)\n",
    "print(\"[OK] Coregistration and interferogram generation complete\")\n"
   ]
  },
  {
   "cell_type": "code",
   "execution_count": null,
   "id": "f92d35d3",
   "metadata": {},
   "outputs": [],
   "source": [
    "interferograms = xr.open_dataarray(\n",
    "    \"path to filt_fine.int.vrt\",\n",
    "    engine=\"rasterio\"\n",
    ")\n",
    "coherence = xr.open_dataarray(\n",
    "    \"path to filt_fine.cor.vrt\",\n",
    "    engine=\"rasterio\"\n",
    ")"
   ]
  },
  {
   "cell_type": "code",
   "execution_count": null,
   "id": "0d9959e7",
   "metadata": {},
   "outputs": [],
   "source": [
    "geocoded_interferograms = interferograms.edk.geocode()\n",
    "geocoded_coherence = coherence.edk.geocode()"
   ]
  },
  {
   "cell_type": "code",
   "execution_count": null,
   "id": "348e651e",
   "metadata": {},
   "outputs": [],
   "source": [
    "# Compute phase from complex interferogram\n",
    "phase = xr.apply_ufunc(np.angle, geocoded_interferograms)\n",
    "geocoded_phase = phase.edk.geocode()\n",
    "\n",
    "# Compute LOS displacement\n",
    "displacement = (geocoded_phase * WAVELENGTH) / (4 * np.pi)\n",
    "displacement.attrs.update({\n",
    "    \"units\": \"meters\",\n",
    "    \"description\": \"Line-of-sight displacement over Mount Etna\"\n",
    "})\n",
    "print(\"[OK] LOS displacement computed\")\n"
   ]
  },
  {
   "cell_type": "code",
   "execution_count": null,
   "id": "28fb6ded",
   "metadata": {},
   "outputs": [],
   "source": [
    "print(\"Geocoded Interferogram:\")\n",
    "print(geocoded_interferograms)\n",
    "\n",
    "print(\"\\nPhase:\")\n",
    "print(phase)\n",
    "\n",
    "print(\"\\nGeocoded Coherence:\")\n",
    "print(geocoded_coherence)\n",
    "\n",
    "print(\"\\nPhase again:\")\n",
    "print(phase)\n"
   ]
  },
  {
   "cell_type": "code",
   "execution_count": null,
   "id": "0d8b8fcf",
   "metadata": {},
   "outputs": [],
   "source": [
    "# Export all outputs as GeoTIFFs\n",
    "geocoded_phase.edk.export(\"examples/mount_etna_phase.tif\")\n",
    "geocoded_coherence.edk.export(\"examples/mount_etna_coherence.tif\")\n",
    "displacement.edk.export(\"examples/mount_etna_displacement.tif\")\n",
    "print(\"[OK] Exported GeoTIFFs to examples/\")\n"
   ]
  },
  {
   "cell_type": "code",
   "execution_count": null,
   "id": "666929c4",
   "metadata": {},
   "outputs": [],
   "source": [
    "geocoded_phase.edk.plot(colors=['purple','yellow','red'], opacity=0.7)"
   ]
  },
  {
   "cell_type": "code",
   "execution_count": null,
   "id": "0f748b80",
   "metadata": {},
   "outputs": [],
   "source": [
    "geocoded_coherence.edk.plot(colors=['blue','cyan','green'], opacity=0.7)"
   ]
  },
  {
   "cell_type": "code",
   "execution_count": null,
   "id": "ae5473fa",
   "metadata": {},
   "outputs": [],
   "source": [
    "displacement.edk.plot(colors=['blue','cyan','green'], opacity=0.7)"
   ]
  }
 ],
 "metadata": {
  "kernelspec": {
   "display_name": "base",
   "language": "python",
   "name": "python3"
  },
  "language_info": {
   "codemirror_mode": {
    "name": "ipython",
    "version": 3
   },
   "file_extension": ".py",
   "mimetype": "text/x-python",
   "name": "python",
   "nbconvert_exporter": "python",
   "pygments_lexer": "ipython3",
   "version": "3.12.11"
  }
 },
 "nbformat": 4,
 "nbformat_minor": 5
}
